{
 "cells": [
  {
   "cell_type": "code",
   "execution_count": 1,
   "metadata": {
    "scrolled": true
   },
   "outputs": [
    {
     "name": "stderr",
     "output_type": "stream",
     "text": [
      "WARNING:hyperspy.api:The ipywidgets GUI elements are not available, probably because the hyperspy_gui_ipywidgets package is not installed.\n",
      "WARNING:hyperspy.api:The traitsui GUI elements are not available, probably because the hyperspy_gui_traitsui package is not installed.\n"
     ]
    }
   ],
   "source": [
    "#required libraries\n",
    "%matplotlib qt\n",
    "import numpy as np\n",
    "import hyperspy.api as hp\n",
    "from ncempy.io import dm\n",
    "import matplotlib.pyplot as plt"
   ]
  },
  {
   "cell_type": "code",
   "execution_count": 2,
   "metadata": {},
   "outputs": [
    {
     "data": {
      "text/plain": [
       "dict_keys(['filename', 'data', 'pixelUnit', 'pixelSize', 'pixelOrigin', 'coords'])"
      ]
     },
     "execution_count": 2,
     "metadata": {},
     "output_type": "execute_result"
    }
   ],
   "source": [
    "#load spectrum image\n",
    "dataset = dm.dmReader(\"D:\\Documents\\Summer 2020 Research\\Sample Data\\SI_2.dm4\")\n",
    "psf = dm.dmReader(\"D:\\Documents\\Summer 2020 Research\\Sample Data\\psf.dm4\")\n",
    "\n",
    "#index for separate spectra of the same size\n",
    "Spec = dataset['data'][:1778,0,0]\n",
    "PSF = psf['data'][:,0,0]\n",
    "\n",
    "dataset.keys()"
   ]
  },
  {
   "cell_type": "code",
   "execution_count": 51,
   "metadata": {},
   "outputs": [],
   "source": [
    "#Functions\n",
    "\n",
    "#Normalize spectrum based on total electron counts\n",
    "def normalizeS(S):\n",
    "\tS_norm = S/np.sum(S)\n",
    "\treturn S_norm\n",
    "\n",
    "#ISRA algorithm\n",
    "def ISRA(iterations, PSF_norm, Spec):\n",
    "    ISRA5 = np.copy(Spec)\n",
    "    ISRA1 = np.convolve(PSF_norm, Spec, mode='same')\n",
    "    for i in range(iterations):\n",
    "        ISRA2 = np.convolve(PSF_norm, ISRA5, mode='same')\n",
    "        ISRA3 = np.convolve(PSF_norm, ISRA2, mode='same')\n",
    "        ISRA4 = np.divide(ISRA1, ISRA3)\n",
    "        ISRA5 = np.multiply(ISRA4, ISRA5)\n",
    "    return ISRA5\n",
    "\n",
    "#Richardson-Lucy algorithm (from Edson Bellido)\n",
    "def RL(iterations, PSF_norm, Spec):\n",
    "    RL4 = np.copy(Spec)\n",
    "    for ii in range(iterations):\n",
    "        RL1 = np.convolve(PSF_norm, RL4, mode='same')\n",
    "        RL2 = np.divide(Spec,RL1)\n",
    "        RL3 = np.convolve(PSF_norm, RL2, mode='same')\n",
    "        RL4 = np.multiply(RL3, RL4)\n",
    "    return RL4"
   ]
  },
  {
   "cell_type": "code",
   "execution_count": 48,
   "metadata": {},
   "outputs": [],
   "source": [
    "#normalize the PSF\n",
    "PSF_norm = normalizeS(PSF)\n",
    "Spec_norm = normalizeS(Spec)"
   ]
  },
  {
   "cell_type": "code",
   "execution_count": 49,
   "metadata": {},
   "outputs": [],
   "source": [
    "#perform deconvolution\n",
    "ISRA = ISRA(20, PSF_norm, Spec_norm)\n",
    "RL = RL(20, PSF_norm, Spec_norm)"
   ]
  },
  {
   "cell_type": "code",
   "execution_count": 50,
   "metadata": {},
   "outputs": [],
   "source": [
    "#plot\n",
    "\n",
    "fig = plt.figure()\n",
    "ax1 = fig.add_subplot(211)\n",
    "ax2 = fig.add_subplot(212)\n",
    "ax1.set_title(\"Spec\")\n",
    "ax2.set_title(\"PSF\")\n",
    "ax1.plot(Spec_norm)\n",
    "ax2.plot(PSF_norm)\n",
    "\n",
    "fig_1 = plt.figure()\n",
    "ax_test1 = fig_1.add_subplot(111)\n",
    "ax_test1.plot(abs(ISRA))\n",
    "fig_1.suptitle(\"ISRA\")\n",
    "ax_test1.set_ylim(0,0.02)\n",
    "\n",
    "fig_2 = plt.figure()\n",
    "ax_test2 = fig_2.add_subplot(111)\n",
    "ax_test2.plot(abs(RL))\n",
    "fig_2.suptitle(\"RL\")\n",
    "ax_test2.set_ylim(0,0.02)\n",
    "\n",
    "plt.show()"
   ]
  },
  {
   "cell_type": "code",
   "execution_count": null,
   "metadata": {},
   "outputs": [],
   "source": []
  }
 ],
 "metadata": {
  "kernelspec": {
   "display_name": "Python 3",
   "language": "python",
   "name": "python3"
  },
  "language_info": {
   "codemirror_mode": {
    "name": "ipython",
    "version": 3
   },
   "file_extension": ".py",
   "mimetype": "text/x-python",
   "name": "python",
   "nbconvert_exporter": "python",
   "pygments_lexer": "ipython3",
   "version": "3.8.3"
  }
 },
 "nbformat": 4,
 "nbformat_minor": 4
}
