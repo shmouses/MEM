{
 "cells": [
  {
   "cell_type": "code",
   "execution_count": null,
   "metadata": {
    "scrolled": true
   },
   "outputs": [],
   "source": [
    "#required libraries\n",
    "%matplotlib qt\n",
    "import numpy as np\n",
    "import hyperspy.api as hp\n",
    "from ncempy.io import dm\n",
    "import matplotlib.pyplot as plt"
   ]
  },
  {
   "cell_type": "code",
   "execution_count": null,
   "metadata": {},
   "outputs": [],
   "source": [
    "#load spectrum image\n",
    "dataset = dm.dmReader(\"D:\\Documents\\Summer 2020 Research\\Sample Data\\SI_2.dm4\")\n",
    "psf = dm.dmReader(\"D:\\Documents\\Summer 2020 Research\\Sample Data\\psf.dm4\")\n",
    "\n",
    "#index for separate spectra of the same size\n",
    "Spec = dataset['data'][:1778,0,0]\n",
    "PSF = psf['data'][:,0,0]\n",
    "\n",
    "dataset.keys()"
   ]
  },
  {
   "cell_type": "code",
   "execution_count": null,
   "metadata": {},
   "outputs": [],
   "source": [
    "#Functions\n",
    "\n",
    "#Normalize spectrum based on total electron counts\n",
    "def normalizeS(S):\n",
    "\tS_norm = S/np.sum(S)\n",
    "\treturn S_norm\n",
    "\n",
    "#Maximum-Entropy algorithm\n",
    "def ISRA(iterations, PSF_norm, Spec):\n",
    "    ISRA5 = np.copy(Spec)\n",
    "    for i in range(iterations):\n",
    "        ISRA1 = np.convolve(PSF_norm, Spec, 'same')\n",
    "        ISRA2 = np.convolve(PSF_norm, ISRA5, 'same')\n",
    "        ISRA3 = np.convolve(PSF_norm, ISRA2, 'same')\n",
    "        ISRA4 = ISRA1/ISRA3\n",
    "        ISRA5 *= ISRA4\n",
    "    return ISRA5\n",
    "\n",
    "#Richardson-Lucy algorithm (from Edson Bellido)\n",
    "def RL(iterations, PSF_norm, Spec):\n",
    "    RL4 = np.copy(Spec)\n",
    "    for ii in range(iterations):\n",
    "        RL1 = np.convolve(PSF_norm, RL4, 'same')\n",
    "        RL2 = Spec/RL1\n",
    "        RL3 = np.convolve(PSF_norm, RL2, 'same')\n",
    "        RL4 *= RL3\n",
    "    return RL4"
   ]
  },
  {
   "cell_type": "code",
   "execution_count": null,
   "metadata": {},
   "outputs": [],
   "source": [
    "#normalize the PSF\n",
    "PSF_norm = normalizeS(PSF)"
   ]
  },
  {
   "cell_type": "code",
   "execution_count": null,
   "metadata": {},
   "outputs": [],
   "source": [
    "#perform deconvolution\n",
    "ISRA = ISRA(20, PSF_norm, Spec)\n",
    "RL = RL(20, PSF_norm, Spec)"
   ]
  },
  {
   "cell_type": "code",
   "execution_count": null,
   "metadata": {},
   "outputs": [],
   "source": [
    "#plot\n",
    "\n",
    "fig = plt.figure()\n",
    "ax1 = fig.add_subplot(211)\n",
    "ax2 = fig.add_subplot(212)\n",
    "ax1.set_title(\"Spec\")\n",
    "ax2.set_title(\"PSF\")\n",
    "ax1.plot(Spec)\n",
    "ax2.plot(PSF)\n",
    "\n",
    "fig_1 = plt.figure()\n",
    "ax_test = fig_1.add_subplot(111)\n",
    "ax_test.plot(abs(ISRA))\n",
    "fig_1.suptitle(\"ISRA\")\n",
    "\n",
    "fig_2 = plt.figure()\n",
    "ax_test = fig_2.add_subplot(111)\n",
    "ax_test.plot(abs(RL))\n",
    "fig_2.suptitle(\"RL\")\n",
    "\n",
    "plt.show()"
   ]
  }
 ],
 "metadata": {
  "kernelspec": {
   "display_name": "Python 3",
   "language": "python",
   "name": "python3"
  },
  "language_info": {
   "codemirror_mode": {
    "name": "ipython",
    "version": 3
   },
   "file_extension": ".py",
   "mimetype": "text/x-python",
   "name": "python",
   "nbconvert_exporter": "python",
   "pygments_lexer": "ipython3",
   "version": "3.8.3"
  }
 },
 "nbformat": 4,
 "nbformat_minor": 4
}
