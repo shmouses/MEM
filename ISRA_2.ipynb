{
 "cells": [
  {
   "cell_type": "markdown",
   "metadata": {},
   "source": [
    "## Comparison between the iterative Image Space Restoration Algorithm (ISRA) and the Richardson-Lucy Algorithm (RLA) \n",
    "Generated Voigt functions\n",
    "\n"
   ]
  },
  {
   "cell_type": "code",
   "execution_count": null,
   "metadata": {},
   "outputs": [],
   "source": [
    "#required libraries\n",
    "%matplotlib qt\n",
    "import numpy as np\n",
    "import hyperspy.api as hs\n",
    "from ncempy.io import dm\n",
    "import matplotlib.pyplot as plt\n",
    "from scipy.signal import peak_widths, find_peaks\n",
    "import math"
   ]
  },
  {
   "cell_type": "markdown",
   "metadata": {},
   "source": [
    "Functions"
   ]
  },
  {
   "cell_type": "code",
   "execution_count": null,
   "metadata": {},
   "outputs": [],
   "source": [
    "#convert text files\n",
    "def txtconverter(numpy_array):\n",
    "    file = str(numpy_array).replace('[','')\n",
    "    file = file.replace(']','')\n",
    "    data = np.fromstring(file, sep=',')\n",
    "    return data\n",
    "\n",
    "def find_counts(data):\n",
    "    counts=data[1:-1:2]\n",
    "    return counts\n",
    "\n",
    "def find_ev(data):\n",
    "    ev=data[0:-1:2]\n",
    "    return ev\n",
    "    \n",
    "def hyperspy_plot(ev, counts):\n",
    "    s = hs.signals.EELSSpectrum(counts)\n",
    "    s.axes_manager[0].scale = np.diff(ev).mean()\n",
    "    s.axes_manager[0].unit = 'eV'\n",
    "    s.axes_manager[0].offset = ev[0]\n",
    "    s.axes_manager[0].name = 'Energy'\n",
    "    return s\n",
    "\n",
    "#Normalize spectrum based on total electron counts\n",
    "def normalizeS(S):\n",
    "\tS_norm = S/np.sum(S)\n",
    "\treturn S_norm\n",
    "\n",
    "#ISRA algorithm\n",
    "def ISRA(iterations, PSF, Spec):\n",
    "    ISRA5 = np.copy(Spec)\n",
    "    ISRA1 = np.convolve(PSF, Spec, mode='same')\n",
    "    for i in range(iterations):\n",
    "        ISRA2 = np.convolve(PSF, ISRA5, mode='same')\n",
    "        ISRA3 = np.convolve(PSF, ISRA2, mode='same')\n",
    "        ISRA4 = np.divide(ISRA1, ISRA3)\n",
    "        ISRA5 = np.multiply(ISRA4, ISRA5)\n",
    "    return ISRA5\n",
    "\n",
    "#Richardson-Lucy algorithm (code from Edson Bellido)\n",
    "def RL(iterations, PSF, Spec):\n",
    "    RL4 = np.copy(Spec)\n",
    "    for i in range(iterations):\n",
    "        RL1 = np.convolve(PSF, RL4, mode='same')\n",
    "        RL2 = np.divide(Spec,RL1)\n",
    "        RL3 = np.convolve(PSF, RL2, mode='same')\n",
    "        RL4 = np.multiply(RL3, RL4)\n",
    "    return RL4"
   ]
  },
  {
   "cell_type": "markdown",
   "metadata": {},
   "source": [
    "Load files"
   ]
  },
  {
   "cell_type": "code",
   "execution_count": null,
   "metadata": {},
   "outputs": [],
   "source": [
    "#load file as numpy array\n",
    "Signal = np.loadtxt(\"D:\\Downloads\\Signal1.txt\",dtype=\"str\")\n",
    "PSF = np.loadtxt(\"D:\\Downloads\\PSF1.txt\", dtype='str')\n",
    "\n",
    "#convert text file to usable numpy array\n",
    "signal = txtconverter(Signal)\n",
    "psf = txtconverter(PSF)\n",
    "\n",
    "#separate data into counts and ev\n",
    "psf_counts = find_counts(psf)\n",
    "signal_counts = find_counts(signal)\n",
    "signal_ev = find_ev(signal)"
   ]
  },
  {
   "cell_type": "markdown",
   "metadata": {},
   "source": [
    "Deconvolve"
   ]
  },
  {
   "cell_type": "code",
   "execution_count": null,
   "metadata": {},
   "outputs": [],
   "source": [
    "ISRA_deconvolve = ISRA(10, psf_counts, signal_counts)\n",
    "a = hyperspy_plot(signal_ev, ISRA_deconvolve)\n",
    "a.plot()"
   ]
  },
  {
   "cell_type": "code",
   "execution_count": null,
   "metadata": {},
   "outputs": [],
   "source": [
    "RL_deconvolve = RL(10, psf_counts, signal_counts)\n",
    "s = hyperspy_plot(signal_ev, RL_deconvolve)\n",
    "s.plot()"
   ]
  }
 ],
 "metadata": {
  "kernelspec": {
   "display_name": "Python 3",
   "language": "python",
   "name": "python3"
  },
  "language_info": {
   "codemirror_mode": {
    "name": "ipython",
    "version": 3
   },
   "file_extension": ".py",
   "mimetype": "text/x-python",
   "name": "python",
   "nbconvert_exporter": "python",
   "pygments_lexer": "ipython3",
   "version": "3.8.3"
  }
 },
 "nbformat": 4,
 "nbformat_minor": 4
}
